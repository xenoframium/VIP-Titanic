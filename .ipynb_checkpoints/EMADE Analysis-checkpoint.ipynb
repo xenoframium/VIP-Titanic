{
 "cells": [
  {
   "cell_type": "code",
   "execution_count": 20,
   "metadata": {
    "scrolled": true
   },
   "outputs": [
    {
     "name": "stdout",
     "output_type": "stream",
     "text": [
      "[0.0, 16.2, 0.0, 16.2, 18.8, 0.0, 16.2, 18.8, 0.0, 16.8, 16.2, 18.8, 0.0, 16.8, 11.8, 18.8, 0.0, 16.8, 11.8, 18.8, 0.0, 16.8, 22.8, 11.8, 10.6, 10.0, 0.0, 16.8, 22.8, 11.8, 10.6, 18.8, 10.0, 0.0, 16.8, 22.8, 11.8, 16.8, 10.6, 18.8, 10.0, 0.0, 16.8, 22.8, 11.8, 16.8, 10.6, 18.8, 10.0, 0.0, 16.8, 22.8, 11.8, 16.2, 15.8, 16.8, 5.8, 10.6, 18.8, 10.0, 3.8, 0.0, 18.8, 16.8, 16.2, 15.8, 16.8, 11.8, 5.8, 10.6, 17.4, 10.0, 3.8, 0.0, 18.8, 16.8, 17.0, 16.2, 15.8, 16.8, 11.8, 5.8, 10.6, 17.4, 12.4, 10.0, 3.8, 15.2, 0.0, 18.8, 10.8, 16.2, 15.8, 15.8, 16.8, 16.4, 11.8, 5.8, 10.6, 17.4, 12.4, 10.0, 3.8, 15.2, 0.0, 18.8, 10.8, 15.8, 15.8, 15.8, 16.8, 16.4, 11.8, 5.8, 10.6, 17.4, 12.4, 10.0, 3.8, 15.2, 10.8, 0.0, 18.8, 10.8, 15.8, 15.8, 109.8, 15.8, 16.8, 16.4, 11.8, 5.8, 10.6, 10.2, 8.2, 17.4, 12.4, 6.4, 10.0, 3.8, 15.2, 10.6, 10.8, 0.0, 18.8, 10.8, 15.8, 15.8, 109.8, 15.8, 16.8, 16.4, 11.8, 5.8, 18.4, 10.6, 10.2, 8.2, 10.0, 17.8, 3.8, 11.2, 3.6, 10.6, 11.8, 10.8, 0.0, 11.2, 18.8, 10.8, 15.8, 15.8, 109.8, 15.8, 11.0, 16.8, 5.6, 16.4, 18.4, 5.0, 15.8, 10.2, 8.2]\n",
      "[68.4, 21.8, 68.4, 21.8, 19.0, 68.4, 21.8, 19.0, 68.4, 37.6, 21.8, 19.0, 68.4, 37.6, 20.0, 19.0, 68.4, 37.6, 20.0, 19.0, 68.4, 37.6, 22.0, 20.0, 47.8, 23.0, 68.4, 37.6, 22.0, 20.0, 47.8, 19.0, 23.0, 68.4, 37.6, 22.0, 20.0, 19.0, 47.8, 19.0, 23.0, 68.4, 37.6, 22.0, 20.0, 19.0, 47.8, 19.0, 23.0, 68.4, 37.6, 22.0, 20.0, 21.8, 19.0, 19.0, 50.8, 47.8, 19.0, 23.0, 50.4, 68.4, 19.0, 37.6, 21.8, 19.0, 19.0, 20.0, 50.8, 47.8, 23.0, 23.0, 50.4, 68.4, 19.0, 37.6, 19.8, 21.8, 19.0, 19.0, 20.0, 50.8, 47.8, 23.0, 30.6, 23.0, 50.4, 34.2, 68.4, 19.0, 22.6, 21.8, 19.0, 18.6, 19.0, 19.2, 20.0, 50.8, 47.8, 23.0, 30.6, 23.0, 50.4, 34.2, 68.4, 19.0, 22.6, 19.0, 19.2, 18.6, 19.0, 19.2, 20.0, 50.8, 47.8, 23.0, 30.6, 23.0, 50.4, 34.2, 21.0, 68.4, 19.0, 22.6, 19.0, 19.2, 0.0, 18.6, 19.0, 19.2, 20.0, 50.8, 47.8, 41.2, 24.0, 23.0, 30.6, 48.4, 23.0, 50.4, 34.2, 22.6, 21.0, 68.4, 19.0, 22.6, 19.0, 19.2, 0.0, 18.6, 19.0, 19.2, 20.0, 50.8, 20.0, 47.8, 41.2, 24.0, 23.0, 19.0, 50.4, 19.8, 46.2, 22.6, 20.0, 21.0, 68.4, 21.0, 19.0, 22.6, 19.0, 19.2, 0.0, 18.6, 21.2, 19.0, 47.0, 19.2, 20.0, 52.0, 19.4, 41.2, 24.0]\n"
     ]
    },
    {
     "data": {
      "image/png": "[encoded data removed]",
      "text/plain": [
       "<Figure size 432x288 with 1 Axes>"
      ]
     },
     "metadata": {
      "needs_background": "light"
     },
     "output_type": "display_data"
    }
   ],
   "source": [
    "import pandas as pd\n",
    "import re\n",
    "import matplotlib.pyplot as plt\n",
    "\n",
    "emade_data = pd.read_csv('emade_pareto.csv')\n",
    "\n",
    "fp = [row[14] for row in emade_data.itertuples()]\n",
    "fn = [row[15] for row in emade_data.itertuples()]\n",
    "\n",
    "print(fp)\n",
    "print(fn)\n",
    "\n",
    "def print_pareto():\n",
    "    plt.scatter(fp, fn, color='r')\n",
    "    plt.xlabel(\"False Positives\")\n",
    "    plt.ylabel(\"False Negatives\")\n",
    "    plt.title(\"Pareto Front\")\n",
    "    plt.show()\n",
    "\n",
    "    \n",
    "print_pareto()\n",
    "\n",
    "\n",
    "\n",
    "\n"
   ]
  },
  {
   "cell_type": "code",
   "execution_count": null,
   "metadata": {},
   "outputs": [],
   "source": []
  }
 ],
 "metadata": {
  "kernelspec": {
   "display_name": "Python 3",
   "language": "python",
   "name": "python3"
  },
  "language_info": {
   "codemirror_mode": {
    "name": "ipython",
    "version": 3
   },
   "file_extension": ".py",
   "mimetype": "text/x-python",
   "name": "python",
   "nbconvert_exporter": "python",
   "pygments_lexer": "ipython3",
   "version": "3.7.4"
  }
 },
 "nbformat": 4,
 "nbformat_minor": 2
}
